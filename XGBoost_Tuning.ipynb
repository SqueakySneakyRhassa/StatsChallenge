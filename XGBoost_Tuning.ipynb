{
 "cells": [
  {
   "cell_type": "code",
   "execution_count": 7,
   "metadata": {},
   "outputs": [],
   "source": [
    "import Functions as Func\n",
    "import AdvancedFuncs as af\n",
    "\n",
    "\n",
    "import xgboost as xgb\n",
    "from sklearn.model_selection import train_test_split\n",
    "import numpy as np\n",
    "from sklearn.linear_model import PoissonRegressor\n",
    "from sklearn.model_selection import train_test_split\n",
    "\n",
    "from sklearn.metrics import mean_absolute_error\n",
    "from xgboost.callback import EarlyStopping\n",
    "\n",
    "import optuna"
   ]
  },
  {
   "cell_type": "markdown",
   "metadata": {},
   "source": [
    "Here we outline the process to perform our XGBoost hyperparameter tuning\n",
    "\n",
    "The main motivation for our approach is the difficulty tuning XGBoost using cross validation, due to its ability to quickly overfit to validation data that it is allowed to iterate on. This required a method which did not allow the model to keep using the same dataset repeatedly, so it could not infer its properties and overfit to it as highly flexible models are capable of.\n",
    "\n",
    "XGBoost also has a large number of sensitive parameters to tune, which motivated our decision to use a mixed random grid search-Bayesian optimization approach which we implemented with Optuna. This approach is very quick to find effective hyperparameter candidates, but it can also make overfitting worse if the objective is set improperly.\n",
    "\n",
    "We avoided the overfitting problem by using a boostrapping approach, where both training data and validation data are selected from boostrapped samples, for each iteration. This means that our model never seems the same dataset more than once, which largely eliminates the problem of overfitting as the model is incentivized to learn the overall trends of the data rather than fit to noise."
   ]
  },
  {
   "cell_type": "code",
   "execution_count": 8,
   "metadata": {},
   "outputs": [],
   "source": [
    "# We first go through our normal data pre-processing steps\n",
    "\n",
    "df = Func.load_and_basic_process()\n",
    "df_X, df_Y = Func.df_data_process(df)\n",
    "\n",
    "X_model, X_test, Y_model, Y_test = train_test_split(df_X, df_Y, test_size=0.1, random_state=1)\n",
    "X_train, X_val, Y_train, Y_val = train_test_split(X_model, Y_model, test_size=0.2, random_state=2)"
   ]
  },
  {
   "cell_type": "code",
   "execution_count": 16,
   "metadata": {},
   "outputs": [],
   "source": [
    "def objective(trial):\n",
    "    \n",
    "    # We define a hyperparameter space to optimize. We could expand this to additional parameters or expand the range of existing ones, if desired\n",
    "\n",
    "    n = trial.suggest_int('n', 400, 900)\n",
    "    params = {\n",
    "        'objective': 'reg:absoluteerror',\n",
    "        'eval_metric': 'mae',\n",
    "        \"tree_method\": \"hist\",\n",
    "        'learning_rate': trial.suggest_float('learning_rate', 0.01, 0.2, log=True),\n",
    "        'max_depth': trial.suggest_int('max_depth', 1, 10),\n",
    "        'subsample': trial.suggest_float('subsample', 0.5, 1.0),\n",
    "        'colsample_bytree': trial.suggest_float('colsample_bytree', 0.5, 1.0),\n",
    "        'max_delta_step': trial.suggest_float('max_delta_step', 0, 10),\n",
    "        'min_child_weight': trial.suggest_float('min_child_weight', 0, 10),\n",
    "        'gamma': trial.suggest_float('gamma', 0, 5)\n",
    "    }\n",
    "    \n",
    "    # We define boostrap training/validation sets from the original model data for each loop\n",
    "    X_Train_boot, Y_Train_boot, X_Val_boot, Y_Val_boot = af.generate_train_val_sets(X_model, Y_model)\n",
    "    \n",
    "    # We convert the boostrapped dataframes into efficient XGBoost DMatrix format\n",
    "    dtrain_reg = xgb.DMatrix(X_Train_boot, label=Y_Train_boot[\"Frequency\"], weight=Y_Train_boot[\"Exposure\"])\n",
    "    dval_reg = xgb.DMatrix(X_Val_boot, label=Y_Val_boot[\"Frequency\"], weight=Y_Val_boot[\"Exposure\"])\n",
    "    \n",
    "\n",
    "    evals = [(dtrain_reg, 'train'), (dval_reg, 'eval')]\n",
    "\n",
    "    # Here we train our model on our current set of hyperparameters\n",
    "    early_stopping_cb = EarlyStopping(rounds=10, save_best=True)\n",
    "    model = xgb.train(\n",
    "        params=params,\n",
    "        dtrain=dtrain_reg,\n",
    "        num_boost_round=n,\n",
    "        evals=evals,\n",
    "        callbacks=[early_stopping_cb],\n",
    "    )\n",
    "\n",
    "    # Generate predictions and calculate MAE\n",
    "    best_iteration = model.best_iteration\n",
    "    preds = model.predict(dval_reg, iteration_range=(0, best_iteration + 1))\n",
    "    mae = mean_absolute_error(Y_Val_boot[\"Frequency\"], preds, sample_weight=Y_Val_boot[\"Exposure\"])\n",
    "\n",
    "    # Our optimizer will try to minimize the MAE returned \n",
    "    return mae"
   ]
  },
  {
   "cell_type": "code",
   "execution_count": 17,
   "metadata": {},
   "outputs": [
    {
     "name": "stderr",
     "output_type": "stream",
     "text": [
      "[I 2024-02-24 20:01:14,512] A new study created in memory with name: no-name-4f06a18a-e38b-4201-bdc4-4f8b06582853\n"
     ]
    },
    {
     "name": "stdout",
     "output_type": "stream",
     "text": [
      "[0]\ttrain-mae:0.07383\teval-mae:0.07310\n",
      "[1]\ttrain-mae:0.07383\teval-mae:0.07310\n",
      "[2]\ttrain-mae:0.07383\teval-mae:0.07310\n",
      "[3]\ttrain-mae:0.07383\teval-mae:0.07310\n",
      "[4]\ttrain-mae:0.07383\teval-mae:0.07310\n",
      "[5]\ttrain-mae:0.07383\teval-mae:0.07310\n",
      "[6]\ttrain-mae:0.07383\teval-mae:0.07310\n",
      "[7]\ttrain-mae:0.07383\teval-mae:0.07310\n",
      "[8]\ttrain-mae:0.07383\teval-mae:0.07310\n",
      "[9]\ttrain-mae:0.07383\teval-mae:0.07310\n"
     ]
    },
    {
     "name": "stderr",
     "output_type": "stream",
     "text": [
      "[I 2024-02-24 20:01:17,649] Trial 0 finished with value: 0.07309952700929674 and parameters: {'n': 561, 'learning_rate': 0.10266542490882356, 'max_depth': 6, 'subsample': 0.8956579599377384, 'colsample_bytree': 0.6027697410312449, 'max_delta_step': 1.5380039113067434, 'min_child_weight': 2.7839419211058356, 'gamma': 4.6068297261904965}. Best is trial 0 with value: 0.07309952700929674.\n"
     ]
    },
    {
     "name": "stdout",
     "output_type": "stream",
     "text": [
      "[0]\ttrain-mae:0.07366\teval-mae:0.07396\n",
      "[1]\ttrain-mae:0.07366\teval-mae:0.07396\n",
      "[2]\ttrain-mae:0.07366\teval-mae:0.07396\n",
      "[3]\ttrain-mae:0.07366\teval-mae:0.07396\n",
      "[4]\ttrain-mae:0.07366\teval-mae:0.07396\n",
      "[5]\ttrain-mae:0.07366\teval-mae:0.07396\n",
      "[6]\ttrain-mae:0.07366\teval-mae:0.07396\n",
      "[7]\ttrain-mae:0.07366\teval-mae:0.07396\n",
      "[8]\ttrain-mae:0.07366\teval-mae:0.07396\n",
      "[9]\ttrain-mae:0.07366\teval-mae:0.07396\n",
      "[10]\ttrain-mae:0.07366\teval-mae:0.07396\n"
     ]
    },
    {
     "name": "stderr",
     "output_type": "stream",
     "text": [
      "[I 2024-02-24 20:01:20,286] Trial 1 finished with value: 0.07396152844599894 and parameters: {'n': 635, 'learning_rate': 0.021690651840594984, 'max_depth': 1, 'subsample': 0.6167348513129736, 'colsample_bytree': 0.9094570674399696, 'max_delta_step': 6.264494440190244, 'min_child_weight': 9.277285005283044, 'gamma': 4.85806611249021}. Best is trial 0 with value: 0.07309952700929674.\n"
     ]
    },
    {
     "name": "stdout",
     "output_type": "stream",
     "text": [
      "[0]\ttrain-mae:0.07338\teval-mae:0.07352\n",
      "[1]\ttrain-mae:0.07338\teval-mae:0.07352\n",
      "[2]\ttrain-mae:0.07338\teval-mae:0.07352\n",
      "[3]\ttrain-mae:0.07338\teval-mae:0.07352\n",
      "[4]\ttrain-mae:0.07338\teval-mae:0.07352\n",
      "[5]\ttrain-mae:0.07338\teval-mae:0.07352\n",
      "[6]\ttrain-mae:0.07338\teval-mae:0.07352\n",
      "[7]\ttrain-mae:0.07338\teval-mae:0.07352\n",
      "[8]\ttrain-mae:0.07338\teval-mae:0.07352\n",
      "[9]\ttrain-mae:0.07338\teval-mae:0.07352\n"
     ]
    },
    {
     "name": "stderr",
     "output_type": "stream",
     "text": [
      "[I 2024-02-24 20:01:23,105] Trial 2 finished with value: 0.07352008987234018 and parameters: {'n': 862, 'learning_rate': 0.022213654165976565, 'max_depth': 2, 'subsample': 0.9928404518633343, 'colsample_bytree': 0.7531156489444286, 'max_delta_step': 0.12547681087919482, 'min_child_weight': 4.448981072472611, 'gamma': 4.16355688396739}. Best is trial 0 with value: 0.07309952700929674.\n"
     ]
    },
    {
     "name": "stdout",
     "output_type": "stream",
     "text": [
      "[0]\ttrain-mae:0.07419\teval-mae:0.07290\n",
      "[1]\ttrain-mae:0.07419\teval-mae:0.07290\n",
      "[2]\ttrain-mae:0.07419\teval-mae:0.07290\n",
      "[3]\ttrain-mae:0.07419\teval-mae:0.07290\n",
      "[4]\ttrain-mae:0.07419\teval-mae:0.07290\n",
      "[5]\ttrain-mae:0.07419\teval-mae:0.07290\n",
      "[6]\ttrain-mae:0.07419\teval-mae:0.07290\n",
      "[7]\ttrain-mae:0.07419\teval-mae:0.07290\n",
      "[8]\ttrain-mae:0.07419\teval-mae:0.07290\n",
      "[9]\ttrain-mae:0.07419\teval-mae:0.07290\n",
      "[10]\ttrain-mae:0.07419\teval-mae:0.07291\n"
     ]
    },
    {
     "name": "stderr",
     "output_type": "stream",
     "text": [
      "[I 2024-02-24 20:01:25,836] Trial 3 finished with value: 0.0729039464090784 and parameters: {'n': 788, 'learning_rate': 0.018875032343473198, 'max_depth': 6, 'subsample': 0.6140075024557845, 'colsample_bytree': 0.6334825116145111, 'max_delta_step': 3.022194564943028, 'min_child_weight': 1.3658012294196964, 'gamma': 3.7419588412164724}. Best is trial 3 with value: 0.0729039464090784.\n"
     ]
    },
    {
     "name": "stdout",
     "output_type": "stream",
     "text": [
      "[0]\ttrain-mae:0.07425\teval-mae:0.07290\n",
      "[1]\ttrain-mae:0.07425\teval-mae:0.07290\n",
      "[2]\ttrain-mae:0.07425\teval-mae:0.07290\n",
      "[3]\ttrain-mae:0.07425\teval-mae:0.07290\n",
      "[4]\ttrain-mae:0.07425\teval-mae:0.07290\n",
      "[5]\ttrain-mae:0.07425\teval-mae:0.07290\n",
      "[6]\ttrain-mae:0.07425\teval-mae:0.07290\n",
      "[7]\ttrain-mae:0.07425\teval-mae:0.07290\n",
      "[8]\ttrain-mae:0.07425\teval-mae:0.07290\n",
      "[9]\ttrain-mae:0.07425\teval-mae:0.07290\n"
     ]
    },
    {
     "name": "stderr",
     "output_type": "stream",
     "text": [
      "[I 2024-02-24 20:01:28,623] Trial 4 finished with value: 0.07289737074786269 and parameters: {'n': 412, 'learning_rate': 0.019441828773920995, 'max_depth': 4, 'subsample': 0.7722491190150464, 'colsample_bytree': 0.8140205436853363, 'max_delta_step': 1.0165027098699764, 'min_child_weight': 5.491888892523117, 'gamma': 4.8913972306955475}. Best is trial 4 with value: 0.07289737074786269.\n"
     ]
    },
    {
     "name": "stdout",
     "output_type": "stream",
     "text": [
      "[0]\ttrain-mae:0.07432\teval-mae:0.07335\n",
      "[1]\ttrain-mae:0.07432\teval-mae:0.07335\n",
      "[2]\ttrain-mae:0.07432\teval-mae:0.07335\n",
      "[3]\ttrain-mae:0.07432\teval-mae:0.07335\n",
      "[4]\ttrain-mae:0.07432\teval-mae:0.07335\n",
      "[5]\ttrain-mae:0.07432\teval-mae:0.07335\n",
      "[6]\ttrain-mae:0.07432\teval-mae:0.07335\n",
      "[7]\ttrain-mae:0.07432\teval-mae:0.07335\n",
      "[8]\ttrain-mae:0.07432\teval-mae:0.07335\n",
      "[9]\ttrain-mae:0.07432\teval-mae:0.07335\n",
      "[10]\ttrain-mae:0.07432\teval-mae:0.07335\n"
     ]
    },
    {
     "name": "stderr",
     "output_type": "stream",
     "text": [
      "[I 2024-02-24 20:01:31,556] Trial 5 finished with value: 0.07334785444434164 and parameters: {'n': 558, 'learning_rate': 0.01759934103813345, 'max_depth': 3, 'subsample': 0.8724211175754507, 'colsample_bytree': 0.6120172797128995, 'max_delta_step': 1.854084108709405, 'min_child_weight': 4.086935291495067, 'gamma': 2.6227983260665244}. Best is trial 4 with value: 0.07289737074786269.\n"
     ]
    },
    {
     "name": "stdout",
     "output_type": "stream",
     "text": [
      "[0]\ttrain-mae:0.07377\teval-mae:0.07388\n",
      "[1]\ttrain-mae:0.07377\teval-mae:0.07388\n",
      "[2]\ttrain-mae:0.07377\teval-mae:0.07388\n",
      "[3]\ttrain-mae:0.07377\teval-mae:0.07388\n",
      "[4]\ttrain-mae:0.07377\teval-mae:0.07388\n",
      "[5]\ttrain-mae:0.07377\teval-mae:0.07388\n",
      "[6]\ttrain-mae:0.07377\teval-mae:0.07388\n",
      "[7]\ttrain-mae:0.07377\teval-mae:0.07388\n",
      "[8]\ttrain-mae:0.07377\teval-mae:0.07388\n",
      "[9]\ttrain-mae:0.07377\teval-mae:0.07388\n",
      "[10]\ttrain-mae:0.07377\teval-mae:0.07388\n",
      "[11]\ttrain-mae:0.07377\teval-mae:0.07388\n",
      "[12]\ttrain-mae:0.07377\teval-mae:0.07388\n",
      "[13]\ttrain-mae:0.07377\teval-mae:0.07388\n",
      "[14]\ttrain-mae:0.07377\teval-mae:0.07388\n",
      "[15]\ttrain-mae:0.07377\teval-mae:0.07388\n",
      "[16]\ttrain-mae:0.07377\teval-mae:0.07388\n",
      "[17]\ttrain-mae:0.07377\teval-mae:0.07388\n",
      "[18]\ttrain-mae:0.07377\teval-mae:0.07388\n",
      "[19]\ttrain-mae:0.07377\teval-mae:0.07388\n",
      "[20]\ttrain-mae:0.07377\teval-mae:0.07388\n",
      "[21]\ttrain-mae:0.07377\teval-mae:0.07388\n",
      "[22]\ttrain-mae:0.07377\teval-mae:0.07388\n",
      "[23]\ttrain-mae:0.07377\teval-mae:0.07388\n",
      "[24]\ttrain-mae:0.07377\teval-mae:0.07388\n",
      "[25]\ttrain-mae:0.07377\teval-mae:0.07388\n",
      "[26]\ttrain-mae:0.07377\teval-mae:0.07388\n",
      "[27]\ttrain-mae:0.07377\teval-mae:0.07388\n",
      "[28]\ttrain-mae:0.07377\teval-mae:0.07388\n",
      "[29]\ttrain-mae:0.07377\teval-mae:0.07388\n",
      "[30]\ttrain-mae:0.07377\teval-mae:0.07388\n",
      "[31]\ttrain-mae:0.07377\teval-mae:0.07388\n",
      "[32]\ttrain-mae:0.07377\teval-mae:0.07388\n",
      "[33]\ttrain-mae:0.07377\teval-mae:0.07388\n",
      "[34]\ttrain-mae:0.07377\teval-mae:0.07388\n",
      "[35]\ttrain-mae:0.07377\teval-mae:0.07388\n",
      "[36]\ttrain-mae:0.07377\teval-mae:0.07388\n",
      "[37]\ttrain-mae:0.07377\teval-mae:0.07388\n",
      "[38]\ttrain-mae:0.07377\teval-mae:0.07388\n",
      "[39]\ttrain-mae:0.07377\teval-mae:0.07388\n",
      "[40]\ttrain-mae:0.07377\teval-mae:0.07388\n",
      "[41]\ttrain-mae:0.07377\teval-mae:0.07388\n",
      "[42]\ttrain-mae:0.07377\teval-mae:0.07388\n",
      "[43]\ttrain-mae:0.07377\teval-mae:0.07388\n",
      "[44]\ttrain-mae:0.07377\teval-mae:0.07388\n",
      "[45]\ttrain-mae:0.07377\teval-mae:0.07388\n",
      "[46]\ttrain-mae:0.07377\teval-mae:0.07388\n",
      "[47]\ttrain-mae:0.07377\teval-mae:0.07388\n",
      "[48]\ttrain-mae:0.07377\teval-mae:0.07388\n",
      "[49]\ttrain-mae:0.07377\teval-mae:0.07388\n",
      "[50]\ttrain-mae:0.07377\teval-mae:0.07388\n",
      "[51]\ttrain-mae:0.07377\teval-mae:0.07388\n",
      "[52]\ttrain-mae:0.07377\teval-mae:0.07388\n",
      "[53]\ttrain-mae:0.07377\teval-mae:0.07388\n",
      "[54]\ttrain-mae:0.07377\teval-mae:0.07388\n",
      "[55]\ttrain-mae:0.07377\teval-mae:0.07388\n",
      "[56]\ttrain-mae:0.07377\teval-mae:0.07388\n",
      "[57]\ttrain-mae:0.07377\teval-mae:0.07388\n",
      "[58]\ttrain-mae:0.07377\teval-mae:0.07388\n",
      "[59]\ttrain-mae:0.07377\teval-mae:0.07388\n",
      "[60]\ttrain-mae:0.07377\teval-mae:0.07388\n",
      "[61]\ttrain-mae:0.07377\teval-mae:0.07388\n",
      "[62]\ttrain-mae:0.07377\teval-mae:0.07388\n",
      "[63]\ttrain-mae:0.07377\teval-mae:0.07388\n",
      "[64]\ttrain-mae:0.07377\teval-mae:0.07388\n",
      "[65]\ttrain-mae:0.07377\teval-mae:0.07388\n"
     ]
    },
    {
     "name": "stderr",
     "output_type": "stream",
     "text": [
      "[I 2024-02-24 20:01:40,770] Trial 6 finished with value: 0.07387687313776452 and parameters: {'n': 618, 'learning_rate': 0.02140534064358732, 'max_depth': 6, 'subsample': 0.8801740697703189, 'colsample_bytree': 0.6662859841759861, 'max_delta_step': 9.538451201719798, 'min_child_weight': 1.397224098232207, 'gamma': 2.555357397548121}. Best is trial 4 with value: 0.07289737074786269.\n"
     ]
    },
    {
     "name": "stdout",
     "output_type": "stream",
     "text": [
      "[0]\ttrain-mae:0.07472\teval-mae:0.07312\n",
      "[1]\ttrain-mae:0.07471\teval-mae:0.07313\n",
      "[2]\ttrain-mae:0.07471\teval-mae:0.07313\n",
      "[3]\ttrain-mae:0.07470\teval-mae:0.07314\n",
      "[4]\ttrain-mae:0.07470\teval-mae:0.07314\n",
      "[5]\ttrain-mae:0.07470\teval-mae:0.07314\n",
      "[6]\ttrain-mae:0.07469\teval-mae:0.07315\n",
      "[7]\ttrain-mae:0.07469\teval-mae:0.07316\n",
      "[8]\ttrain-mae:0.07469\teval-mae:0.07316\n",
      "[9]\ttrain-mae:0.07469\teval-mae:0.07316\n"
     ]
    },
    {
     "name": "stderr",
     "output_type": "stream",
     "text": [
      "[I 2024-02-24 20:01:43,595] Trial 7 finished with value: 0.0731179103752066 and parameters: {'n': 739, 'learning_rate': 0.07893450217052948, 'max_depth': 6, 'subsample': 0.8913226555275602, 'colsample_bytree': 0.8659574495524804, 'max_delta_step': 0.8634730044215155, 'min_child_weight': 2.4718723518246213, 'gamma': 0.8061172314208109}. Best is trial 4 with value: 0.07289737074786269.\n"
     ]
    },
    {
     "name": "stdout",
     "output_type": "stream",
     "text": [
      "[0]\ttrain-mae:0.07416\teval-mae:0.07319\n",
      "[1]\ttrain-mae:0.07416\teval-mae:0.07319\n",
      "[2]\ttrain-mae:0.07416\teval-mae:0.07319\n",
      "[3]\ttrain-mae:0.07416\teval-mae:0.07319\n",
      "[4]\ttrain-mae:0.07416\teval-mae:0.07319\n",
      "[5]\ttrain-mae:0.07416\teval-mae:0.07319\n",
      "[6]\ttrain-mae:0.07416\teval-mae:0.07319\n",
      "[7]\ttrain-mae:0.07416\teval-mae:0.07319\n",
      "[8]\ttrain-mae:0.07416\teval-mae:0.07319\n",
      "[9]\ttrain-mae:0.07416\teval-mae:0.07319\n"
     ]
    },
    {
     "name": "stderr",
     "output_type": "stream",
     "text": [
      "[I 2024-02-24 20:01:46,309] Trial 8 finished with value: 0.07319131055521694 and parameters: {'n': 796, 'learning_rate': 0.08703934723886457, 'max_depth': 5, 'subsample': 0.7121840504058892, 'colsample_bytree': 0.7291990650718809, 'max_delta_step': 6.461326590738111, 'min_child_weight': 6.864158007172457, 'gamma': 2.901218906055188}. Best is trial 4 with value: 0.07289737074786269.\n"
     ]
    },
    {
     "name": "stdout",
     "output_type": "stream",
     "text": [
      "[0]\ttrain-mae:0.07375\teval-mae:0.07280\n",
      "[1]\ttrain-mae:0.07375\teval-mae:0.07280\n",
      "[2]\ttrain-mae:0.07375\teval-mae:0.07280\n",
      "[3]\ttrain-mae:0.07375\teval-mae:0.07280\n",
      "[4]\ttrain-mae:0.07375\teval-mae:0.07280\n",
      "[5]\ttrain-mae:0.07375\teval-mae:0.07280\n",
      "[6]\ttrain-mae:0.07375\teval-mae:0.07280\n",
      "[7]\ttrain-mae:0.07375\teval-mae:0.07280\n",
      "[8]\ttrain-mae:0.07375\teval-mae:0.07280\n",
      "[9]\ttrain-mae:0.07375\teval-mae:0.07280\n"
     ]
    },
    {
     "name": "stderr",
     "output_type": "stream",
     "text": [
      "[I 2024-02-24 20:01:49,191] Trial 9 finished with value: 0.0728041077258215 and parameters: {'n': 434, 'learning_rate': 0.011069043608912055, 'max_depth': 3, 'subsample': 0.7782709530746206, 'colsample_bytree': 0.5429377097229124, 'max_delta_step': 5.498528331203291, 'min_child_weight': 8.303383967912149, 'gamma': 1.6893318448071604}. Best is trial 9 with value: 0.0728041077258215.\n"
     ]
    },
    {
     "name": "stdout",
     "output_type": "stream",
     "text": [
      "[0]\ttrain-mae:0.07360\teval-mae:0.07387\n",
      "[1]\ttrain-mae:0.07360\teval-mae:0.07390\n",
      "[2]\ttrain-mae:0.07361\teval-mae:0.07392\n",
      "[3]\ttrain-mae:0.07361\teval-mae:0.07392\n",
      "[4]\ttrain-mae:0.07361\teval-mae:0.07392\n",
      "[5]\ttrain-mae:0.07361\teval-mae:0.07392\n",
      "[6]\ttrain-mae:0.07360\teval-mae:0.07393\n",
      "[7]\ttrain-mae:0.07360\teval-mae:0.07393\n",
      "[8]\ttrain-mae:0.07360\teval-mae:0.07393\n",
      "[9]\ttrain-mae:0.07360\teval-mae:0.07393\n"
     ]
    },
    {
     "name": "stderr",
     "output_type": "stream",
     "text": [
      "[I 2024-02-24 20:01:51,999] Trial 10 finished with value: 0.0738704306324344 and parameters: {'n': 433, 'learning_rate': 0.18483293810035323, 'max_depth': 10, 'subsample': 0.5324398439327553, 'colsample_bytree': 0.513440379855179, 'max_delta_step': 4.40335395947026, 'min_child_weight': 9.761202514502182, 'gamma': 1.0425002297282535}. Best is trial 9 with value: 0.0728041077258215.\n"
     ]
    },
    {
     "name": "stdout",
     "output_type": "stream",
     "text": [
      "[0]\ttrain-mae:0.07353\teval-mae:0.07397\n",
      "[1]\ttrain-mae:0.07353\teval-mae:0.07397\n",
      "[2]\ttrain-mae:0.07353\teval-mae:0.07397\n",
      "[3]\ttrain-mae:0.07353\teval-mae:0.07397\n",
      "[4]\ttrain-mae:0.07353\teval-mae:0.07397\n",
      "[5]\ttrain-mae:0.07353\teval-mae:0.07397\n",
      "[6]\ttrain-mae:0.07353\teval-mae:0.07397\n",
      "[7]\ttrain-mae:0.07353\teval-mae:0.07397\n",
      "[8]\ttrain-mae:0.07353\teval-mae:0.07397\n",
      "[9]\ttrain-mae:0.07353\teval-mae:0.07397\n",
      "[10]\ttrain-mae:0.07353\teval-mae:0.07397\n"
     ]
    },
    {
     "name": "stderr",
     "output_type": "stream",
     "text": [
      "[I 2024-02-24 20:01:54,848] Trial 11 finished with value: 0.07396808144521463 and parameters: {'n': 401, 'learning_rate': 0.010015275529851361, 'max_depth': 4, 'subsample': 0.7592262586646157, 'colsample_bytree': 0.9918255858375118, 'max_delta_step': 4.753492658911207, 'min_child_weight': 7.203759928290504, 'gamma': 1.4717015971302354}. Best is trial 9 with value: 0.0728041077258215.\n"
     ]
    },
    {
     "name": "stdout",
     "output_type": "stream",
     "text": [
      "[0]\ttrain-mae:0.07360\teval-mae:0.07372\n",
      "[1]\ttrain-mae:0.07360\teval-mae:0.07372\n",
      "[2]\ttrain-mae:0.07360\teval-mae:0.07373\n",
      "[3]\ttrain-mae:0.07360\teval-mae:0.07373\n",
      "[4]\ttrain-mae:0.07360\teval-mae:0.07373\n",
      "[5]\ttrain-mae:0.07360\teval-mae:0.07373\n",
      "[6]\ttrain-mae:0.07360\teval-mae:0.07374\n",
      "[7]\ttrain-mae:0.07360\teval-mae:0.07374\n",
      "[8]\ttrain-mae:0.07360\teval-mae:0.07374\n",
      "[9]\ttrain-mae:0.07360\teval-mae:0.07374\n"
     ]
    },
    {
     "name": "stderr",
     "output_type": "stream",
     "text": [
      "[I 2024-02-24 20:01:57,781] Trial 12 finished with value: 0.07372320494424717 and parameters: {'n': 480, 'learning_rate': 0.01037186112853928, 'max_depth': 8, 'subsample': 0.7635644659831882, 'colsample_bytree': 0.817245897185568, 'max_delta_step': 7.87737831825433, 'min_child_weight': 7.5282078027573185, 'gamma': 0.1559591497495747}. Best is trial 9 with value: 0.0728041077258215.\n"
     ]
    },
    {
     "name": "stdout",
     "output_type": "stream",
     "text": [
      "[0]\ttrain-mae:0.07416\teval-mae:0.07371\n",
      "[1]\ttrain-mae:0.07416\teval-mae:0.07371\n",
      "[2]\ttrain-mae:0.07416\teval-mae:0.07371\n",
      "[3]\ttrain-mae:0.07416\teval-mae:0.07371\n",
      "[4]\ttrain-mae:0.07416\teval-mae:0.07371\n",
      "[5]\ttrain-mae:0.07416\teval-mae:0.07371\n",
      "[6]\ttrain-mae:0.07416\teval-mae:0.07371\n",
      "[7]\ttrain-mae:0.07416\teval-mae:0.07371\n",
      "[8]\ttrain-mae:0.07416\teval-mae:0.07371\n",
      "[9]\ttrain-mae:0.07416\teval-mae:0.07371\n",
      "[10]\ttrain-mae:0.07416\teval-mae:0.07371\n"
     ]
    },
    {
     "name": "stderr",
     "output_type": "stream",
     "text": [
      "[I 2024-02-24 20:02:00,628] Trial 13 finished with value: 0.07370793510062608 and parameters: {'n': 497, 'learning_rate': 0.04122323346067075, 'max_depth': 3, 'subsample': 0.6758535241647448, 'colsample_bytree': 0.5144012397901822, 'max_delta_step': 3.3504060315366724, 'min_child_weight': 5.775442654683057, 'gamma': 1.8990028526045841}. Best is trial 9 with value: 0.0728041077258215.\n"
     ]
    },
    {
     "name": "stdout",
     "output_type": "stream",
     "text": [
      "[0]\ttrain-mae:0.07383\teval-mae:0.07345\n",
      "[1]\ttrain-mae:0.07383\teval-mae:0.07345\n",
      "[2]\ttrain-mae:0.07383\teval-mae:0.07345\n",
      "[3]\ttrain-mae:0.07383\teval-mae:0.07345\n",
      "[4]\ttrain-mae:0.07383\teval-mae:0.07345\n",
      "[5]\ttrain-mae:0.07383\teval-mae:0.07345\n",
      "[6]\ttrain-mae:0.07383\teval-mae:0.07345\n",
      "[7]\ttrain-mae:0.07383\teval-mae:0.07345\n",
      "[8]\ttrain-mae:0.07383\teval-mae:0.07345\n",
      "[9]\ttrain-mae:0.07383\teval-mae:0.07345\n",
      "[10]\ttrain-mae:0.07383\teval-mae:0.07345\n"
     ]
    },
    {
     "name": "stderr",
     "output_type": "stream",
     "text": [
      "[I 2024-02-24 20:02:04,055] Trial 14 finished with value: 0.07344621725975073 and parameters: {'n': 486, 'learning_rate': 0.034364083093788356, 'max_depth': 1, 'subsample': 0.8013908798167242, 'colsample_bytree': 0.7730362512886595, 'max_delta_step': 6.507793846805345, 'min_child_weight': 8.301394608895553, 'gamma': 3.2137509751872413}. Best is trial 9 with value: 0.0728041077258215.\n"
     ]
    },
    {
     "name": "stdout",
     "output_type": "stream",
     "text": [
      "[0]\ttrain-mae:0.07357\teval-mae:0.07371\n",
      "[1]\ttrain-mae:0.07357\teval-mae:0.07371\n",
      "[2]\ttrain-mae:0.07357\teval-mae:0.07371\n",
      "[3]\ttrain-mae:0.07357\teval-mae:0.07371\n",
      "[4]\ttrain-mae:0.07357\teval-mae:0.07371\n",
      "[5]\ttrain-mae:0.07357\teval-mae:0.07371\n",
      "[6]\ttrain-mae:0.07357\teval-mae:0.07371\n",
      "[7]\ttrain-mae:0.07357\teval-mae:0.07371\n",
      "[8]\ttrain-mae:0.07357\teval-mae:0.07371\n",
      "[9]\ttrain-mae:0.07357\teval-mae:0.07371\n"
     ]
    },
    {
     "name": "stderr",
     "output_type": "stream",
     "text": [
      "[I 2024-02-24 20:02:07,357] Trial 15 finished with value: 0.0737117600550456 and parameters: {'n': 557, 'learning_rate': 0.013536532521087661, 'max_depth': 4, 'subsample': 0.7902857271394587, 'colsample_bytree': 0.6958947171179813, 'max_delta_step': 2.9930225412153195, 'min_child_weight': 5.762326939906342, 'gamma': 1.961388086300715}. Best is trial 9 with value: 0.0728041077258215.\n"
     ]
    },
    {
     "name": "stdout",
     "output_type": "stream",
     "text": [
      "[0]\ttrain-mae:0.07356\teval-mae:0.07303\n",
      "[1]\ttrain-mae:0.07356\teval-mae:0.07303\n",
      "[2]\ttrain-mae:0.07356\teval-mae:0.07303\n",
      "[3]\ttrain-mae:0.07356\teval-mae:0.07303\n",
      "[4]\ttrain-mae:0.07356\teval-mae:0.07303\n",
      "[5]\ttrain-mae:0.07356\teval-mae:0.07303\n",
      "[6]\ttrain-mae:0.07356\teval-mae:0.07303\n",
      "[7]\ttrain-mae:0.07356\teval-mae:0.07303\n",
      "[8]\ttrain-mae:0.07356\teval-mae:0.07303\n",
      "[9]\ttrain-mae:0.07356\teval-mae:0.07303\n"
     ]
    },
    {
     "name": "stderr",
     "output_type": "stream",
     "text": [
      "[I 2024-02-24 20:02:10,674] Trial 16 finished with value: 0.07303381201357337 and parameters: {'n': 400, 'learning_rate': 0.03065405971401275, 'max_depth': 4, 'subsample': 0.6853769755330944, 'colsample_bytree': 0.9049385996868097, 'max_delta_step': 8.315595296412429, 'min_child_weight': 0.027374633977932383, 'gamma': 3.600119988007025}. Best is trial 9 with value: 0.0728041077258215.\n"
     ]
    },
    {
     "name": "stdout",
     "output_type": "stream",
     "text": [
      "[0]\ttrain-mae:0.07349\teval-mae:0.07429\n",
      "[1]\ttrain-mae:0.07349\teval-mae:0.07429\n",
      "[2]\ttrain-mae:0.07349\teval-mae:0.07429\n",
      "[3]\ttrain-mae:0.07349\teval-mae:0.07429\n",
      "[4]\ttrain-mae:0.07349\teval-mae:0.07429\n",
      "[5]\ttrain-mae:0.07349\teval-mae:0.07429\n",
      "[6]\ttrain-mae:0.07349\teval-mae:0.07429\n",
      "[7]\ttrain-mae:0.07349\teval-mae:0.07429\n",
      "[8]\ttrain-mae:0.07349\teval-mae:0.07429\n",
      "[9]\ttrain-mae:0.07349\teval-mae:0.07429\n"
     ]
    },
    {
     "name": "stderr",
     "output_type": "stream",
     "text": [
      "[I 2024-02-24 20:02:13,981] Trial 17 finished with value: 0.07428702049587936 and parameters: {'n': 488, 'learning_rate': 0.06218477233693055, 'max_depth': 8, 'subsample': 0.8300603298668975, 'colsample_bytree': 0.7898353780239278, 'max_delta_step': 5.487043552478144, 'min_child_weight': 8.560559024125748, 'gamma': 1.914109523839676}. Best is trial 9 with value: 0.0728041077258215.\n"
     ]
    },
    {
     "name": "stdout",
     "output_type": "stream",
     "text": [
      "[0]\ttrain-mae:0.07335\teval-mae:0.07441\n",
      "[1]\ttrain-mae:0.07335\teval-mae:0.07441\n",
      "[2]\ttrain-mae:0.07335\teval-mae:0.07441\n",
      "[3]\ttrain-mae:0.07335\teval-mae:0.07441\n",
      "[4]\ttrain-mae:0.07335\teval-mae:0.07441\n",
      "[5]\ttrain-mae:0.07335\teval-mae:0.07441\n",
      "[6]\ttrain-mae:0.07335\teval-mae:0.07441\n",
      "[7]\ttrain-mae:0.07335\teval-mae:0.07441\n",
      "[8]\ttrain-mae:0.07335\teval-mae:0.07441\n",
      "[9]\ttrain-mae:0.07335\teval-mae:0.07441\n"
     ]
    },
    {
     "name": "stderr",
     "output_type": "stream",
     "text": [
      "[I 2024-02-24 20:02:17,213] Trial 18 finished with value: 0.0744055484266915 and parameters: {'n': 729, 'learning_rate': 0.013273132110266891, 'max_depth': 2, 'subsample': 0.9881269405549223, 'colsample_bytree': 0.5552110302161848, 'max_delta_step': 4.228653719053714, 'min_child_weight': 5.850930964803002, 'gamma': 0.26869965627869696}. Best is trial 9 with value: 0.0728041077258215.\n"
     ]
    },
    {
     "name": "stdout",
     "output_type": "stream",
     "text": [
      "[0]\ttrain-mae:0.07312\teval-mae:0.07459\n",
      "[1]\ttrain-mae:0.07312\teval-mae:0.07459\n",
      "[2]\ttrain-mae:0.07311\teval-mae:0.07460\n",
      "[3]\ttrain-mae:0.07311\teval-mae:0.07460\n",
      "[4]\ttrain-mae:0.07311\teval-mae:0.07460\n",
      "[5]\ttrain-mae:0.07311\teval-mae:0.07460\n",
      "[6]\ttrain-mae:0.07311\teval-mae:0.07460\n",
      "[7]\ttrain-mae:0.07311\teval-mae:0.07461\n",
      "[8]\ttrain-mae:0.07311\teval-mae:0.07461\n",
      "[9]\ttrain-mae:0.07311\teval-mae:0.07461\n",
      "[10]\ttrain-mae:0.07311\teval-mae:0.07461\n"
     ]
    },
    {
     "name": "stderr",
     "output_type": "stream",
     "text": [
      "[I 2024-02-24 20:02:20,322] Trial 19 finished with value: 0.07459168431232377 and parameters: {'n': 691, 'learning_rate': 0.02953588581607792, 'max_depth': 8, 'subsample': 0.6347830122394436, 'colsample_bytree': 0.8384237146359305, 'max_delta_step': 2.1391600264623634, 'min_child_weight': 6.611746174515874, 'gamma': 1.0472984894172215}. Best is trial 9 with value: 0.0728041077258215.\n"
     ]
    },
    {
     "name": "stdout",
     "output_type": "stream",
     "text": [
      "[0]\ttrain-mae:0.07430\teval-mae:0.07337\n",
      "[1]\ttrain-mae:0.07430\teval-mae:0.07337\n",
      "[2]\ttrain-mae:0.07430\teval-mae:0.07337\n",
      "[3]\ttrain-mae:0.07430\teval-mae:0.07337\n",
      "[4]\ttrain-mae:0.07430\teval-mae:0.07337\n",
      "[5]\ttrain-mae:0.07430\teval-mae:0.07337\n",
      "[6]\ttrain-mae:0.07430\teval-mae:0.07337\n",
      "[7]\ttrain-mae:0.07430\teval-mae:0.07337\n",
      "[8]\ttrain-mae:0.07430\teval-mae:0.07337\n",
      "[9]\ttrain-mae:0.07430\teval-mae:0.07337\n",
      "[10]\ttrain-mae:0.07430\teval-mae:0.07337\n"
     ]
    },
    {
     "name": "stderr",
     "output_type": "stream",
     "text": [
      "[I 2024-02-24 20:02:23,460] Trial 20 finished with value: 0.07337264472614345 and parameters: {'n': 444, 'learning_rate': 0.01432136594723556, 'max_depth': 3, 'subsample': 0.5002456133182498, 'colsample_bytree': 0.7151834628850195, 'max_delta_step': 7.609473866708735, 'min_child_weight': 3.8675911607429967, 'gamma': 4.3174112896962455}. Best is trial 9 with value: 0.0728041077258215.\n"
     ]
    },
    {
     "name": "stdout",
     "output_type": "stream",
     "text": [
      "[0]\ttrain-mae:0.07312\teval-mae:0.07386\n",
      "[1]\ttrain-mae:0.07312\teval-mae:0.07387\n",
      "[2]\ttrain-mae:0.07312\teval-mae:0.07387\n",
      "[3]\ttrain-mae:0.07312\teval-mae:0.07387\n",
      "[4]\ttrain-mae:0.07312\teval-mae:0.07387\n",
      "[5]\ttrain-mae:0.07312\teval-mae:0.07387\n",
      "[6]\ttrain-mae:0.07312\teval-mae:0.07387\n",
      "[7]\ttrain-mae:0.07312\teval-mae:0.07387\n",
      "[8]\ttrain-mae:0.07312\teval-mae:0.07387\n",
      "[9]\ttrain-mae:0.07312\teval-mae:0.07387\n"
     ]
    },
    {
     "name": "stderr",
     "output_type": "stream",
     "text": [
      "[I 2024-02-24 20:02:26,359] Trial 21 finished with value: 0.07386390052320387 and parameters: {'n': 882, 'learning_rate': 0.016354783103705913, 'max_depth': 5, 'subsample': 0.5848652101033422, 'colsample_bytree': 0.6257825798833975, 'max_delta_step': 2.607254461953092, 'min_child_weight': 0.7531573723503499, 'gamma': 3.7547110898455176}. Best is trial 9 with value: 0.0728041077258215.\n"
     ]
    },
    {
     "name": "stdout",
     "output_type": "stream",
     "text": [
      "[0]\ttrain-mae:0.07380\teval-mae:0.07320\n",
      "[1]\ttrain-mae:0.07380\teval-mae:0.07320\n",
      "[2]\ttrain-mae:0.07380\teval-mae:0.07320\n",
      "[3]\ttrain-mae:0.07380\teval-mae:0.07320\n",
      "[4]\ttrain-mae:0.07380\teval-mae:0.07320\n",
      "[5]\ttrain-mae:0.07380\teval-mae:0.07320\n",
      "[6]\ttrain-mae:0.07380\teval-mae:0.07320\n",
      "[7]\ttrain-mae:0.07380\teval-mae:0.07320\n",
      "[8]\ttrain-mae:0.07380\teval-mae:0.07320\n",
      "[9]\ttrain-mae:0.07380\teval-mae:0.07320\n"
     ]
    },
    {
     "name": "stderr",
     "output_type": "stream",
     "text": [
      "[I 2024-02-24 20:02:29,484] Trial 22 finished with value: 0.07320081756605559 and parameters: {'n': 820, 'learning_rate': 0.022963155021425208, 'max_depth': 7, 'subsample': 0.72029494053378, 'colsample_bytree': 0.5579965802498342, 'max_delta_step': 3.6205581898538464, 'min_child_weight': 3.047324401596076, 'gamma': 4.9640688667854596}. Best is trial 9 with value: 0.0728041077258215.\n"
     ]
    },
    {
     "name": "stdout",
     "output_type": "stream",
     "text": [
      "[0]\ttrain-mae:0.07301\teval-mae:0.07471\n",
      "[1]\ttrain-mae:0.07301\teval-mae:0.07471\n",
      "[2]\ttrain-mae:0.07301\teval-mae:0.07471\n",
      "[3]\ttrain-mae:0.07301\teval-mae:0.07471\n",
      "[4]\ttrain-mae:0.07301\teval-mae:0.07471\n",
      "[5]\ttrain-mae:0.07301\teval-mae:0.07471\n",
      "[6]\ttrain-mae:0.07301\teval-mae:0.07471\n",
      "[7]\ttrain-mae:0.07301\teval-mae:0.07471\n",
      "[8]\ttrain-mae:0.07301\teval-mae:0.07471\n",
      "[9]\ttrain-mae:0.07301\teval-mae:0.07471\n"
     ]
    },
    {
     "name": "stderr",
     "output_type": "stream",
     "text": [
      "[I 2024-02-24 20:02:32,746] Trial 23 finished with value: 0.07471410620305699 and parameters: {'n': 772, 'learning_rate': 0.01183736132634681, 'max_depth': 5, 'subsample': 0.8448305137813014, 'colsample_bytree': 0.6609907753275285, 'max_delta_step': 0.9209331224983881, 'min_child_weight': 1.8186482851720025, 'gamma': 3.8503438310568585}. Best is trial 9 with value: 0.0728041077258215.\n"
     ]
    },
    {
     "name": "stdout",
     "output_type": "stream",
     "text": [
      "[0]\ttrain-mae:0.07283\teval-mae:0.07543\n",
      "[1]\ttrain-mae:0.07283\teval-mae:0.07543\n",
      "[2]\ttrain-mae:0.07283\teval-mae:0.07543\n",
      "[3]\ttrain-mae:0.07283\teval-mae:0.07543\n",
      "[4]\ttrain-mae:0.07283\teval-mae:0.07543\n",
      "[5]\ttrain-mae:0.07283\teval-mae:0.07543\n",
      "[6]\ttrain-mae:0.07283\teval-mae:0.07543\n",
      "[7]\ttrain-mae:0.07283\teval-mae:0.07543\n",
      "[8]\ttrain-mae:0.07283\teval-mae:0.07543\n",
      "[9]\ttrain-mae:0.07283\teval-mae:0.07543\n"
     ]
    },
    {
     "name": "stderr",
     "output_type": "stream",
     "text": [
      "[I 2024-02-24 20:02:35,831] Trial 24 finished with value: 0.07542767947224648 and parameters: {'n': 593, 'learning_rate': 0.016610997439616273, 'max_depth': 7, 'subsample': 0.6551554353397994, 'colsample_bytree': 0.5778187502169709, 'max_delta_step': 5.204097373533214, 'min_child_weight': 5.1474264080759475, 'gamma': 3.1680574796252685}. Best is trial 9 with value: 0.0728041077258215.\n"
     ]
    },
    {
     "name": "stdout",
     "output_type": "stream",
     "text": [
      "[0]\ttrain-mae:0.07346\teval-mae:0.07349\n",
      "[1]\ttrain-mae:0.07346\teval-mae:0.07349\n",
      "[2]\ttrain-mae:0.07346\teval-mae:0.07349\n",
      "[3]\ttrain-mae:0.07346\teval-mae:0.07349\n",
      "[4]\ttrain-mae:0.07346\teval-mae:0.07349\n",
      "[5]\ttrain-mae:0.07346\teval-mae:0.07349\n",
      "[6]\ttrain-mae:0.07346\teval-mae:0.07349\n",
      "[7]\ttrain-mae:0.07346\teval-mae:0.07349\n",
      "[8]\ttrain-mae:0.07346\teval-mae:0.07349\n",
      "[9]\ttrain-mae:0.07346\teval-mae:0.07349\n",
      "[10]\ttrain-mae:0.07346\teval-mae:0.07349\n"
     ]
    },
    {
     "name": "stderr",
     "output_type": "stream",
     "text": [
      "[I 2024-02-24 20:02:38,952] Trial 25 finished with value: 0.07349041374426298 and parameters: {'n': 667, 'learning_rate': 0.05158111619810214, 'max_depth': 2, 'subsample': 0.5744811615727117, 'colsample_bytree': 0.6576517200948835, 'max_delta_step': 0.09815523978626806, 'min_child_weight': 8.09139669094011, 'gamma': 4.383969135311635}. Best is trial 9 with value: 0.0728041077258215.\n"
     ]
    },
    {
     "name": "stdout",
     "output_type": "stream",
     "text": [
      "[0]\ttrain-mae:0.07323\teval-mae:0.07419\n",
      "[1]\ttrain-mae:0.07323\teval-mae:0.07419\n",
      "[2]\ttrain-mae:0.07323\teval-mae:0.07419\n",
      "[3]\ttrain-mae:0.07323\teval-mae:0.07419\n",
      "[4]\ttrain-mae:0.07323\teval-mae:0.07419\n",
      "[5]\ttrain-mae:0.07323\teval-mae:0.07419\n",
      "[6]\ttrain-mae:0.07323\teval-mae:0.07419\n",
      "[7]\ttrain-mae:0.07323\teval-mae:0.07419\n",
      "[8]\ttrain-mae:0.07323\teval-mae:0.07419\n",
      "[9]\ttrain-mae:0.07323\teval-mae:0.07419\n"
     ]
    },
    {
     "name": "stderr",
     "output_type": "stream",
     "text": [
      "[I 2024-02-24 20:02:42,294] Trial 26 finished with value: 0.07419401356061235 and parameters: {'n': 523, 'learning_rate': 0.026641616371625824, 'max_depth': 4, 'subsample': 0.7230310046651305, 'colsample_bytree': 0.5270324039344914, 'max_delta_step': 4.023395927426773, 'min_child_weight': 4.8196060194551755, 'gamma': 3.40416427425626}. Best is trial 9 with value: 0.0728041077258215.\n"
     ]
    },
    {
     "name": "stdout",
     "output_type": "stream",
     "text": [
      "[0]\ttrain-mae:0.07445\teval-mae:0.07306\n",
      "[1]\ttrain-mae:0.07445\teval-mae:0.07306\n",
      "[2]\ttrain-mae:0.07445\teval-mae:0.07306\n",
      "[3]\ttrain-mae:0.07445\teval-mae:0.07306\n",
      "[4]\ttrain-mae:0.07444\teval-mae:0.07306\n",
      "[5]\ttrain-mae:0.07444\teval-mae:0.07306\n",
      "[6]\ttrain-mae:0.07444\teval-mae:0.07306\n",
      "[7]\ttrain-mae:0.07444\teval-mae:0.07306\n",
      "[8]\ttrain-mae:0.07444\teval-mae:0.07306\n",
      "[9]\ttrain-mae:0.07444\teval-mae:0.07306\n",
      "[10]\ttrain-mae:0.07444\teval-mae:0.07307\n"
     ]
    },
    {
     "name": "stderr",
     "output_type": "stream",
     "text": [
      "[I 2024-02-24 20:02:45,690] Trial 27 finished with value: 0.07305935721104916 and parameters: {'n': 434, 'learning_rate': 0.037636130752976824, 'max_depth': 10, 'subsample': 0.9247692272269279, 'colsample_bytree': 0.5817108812898306, 'max_delta_step': 1.3142861918740347, 'min_child_weight': 3.4377781736214423, 'gamma': 2.2370709559507684}. Best is trial 9 with value: 0.0728041077258215.\n"
     ]
    },
    {
     "name": "stdout",
     "output_type": "stream",
     "text": [
      "[0]\ttrain-mae:0.07429\teval-mae:0.07301\n",
      "[1]\ttrain-mae:0.07429\teval-mae:0.07301\n",
      "[2]\ttrain-mae:0.07429\teval-mae:0.07301\n",
      "[3]\ttrain-mae:0.07429\teval-mae:0.07301\n",
      "[4]\ttrain-mae:0.07429\teval-mae:0.07301\n",
      "[5]\ttrain-mae:0.07429\teval-mae:0.07301\n",
      "[6]\ttrain-mae:0.07429\teval-mae:0.07301\n",
      "[7]\ttrain-mae:0.07429\teval-mae:0.07301\n",
      "[8]\ttrain-mae:0.07429\teval-mae:0.07301\n",
      "[9]\ttrain-mae:0.07429\teval-mae:0.07301\n"
     ]
    },
    {
     "name": "stderr",
     "output_type": "stream",
     "text": [
      "[I 2024-02-24 20:02:48,908] Trial 28 finished with value: 0.07300557891482655 and parameters: {'n': 698, 'learning_rate': 0.017312006684035708, 'max_depth': 7, 'subsample': 0.7803671285286462, 'colsample_bytree': 0.6398131615142992, 'max_delta_step': 2.5986039778447556, 'min_child_weight': 6.272619499239035, 'gamma': 4.138129854875095}. Best is trial 9 with value: 0.0728041077258215.\n"
     ]
    },
    {
     "name": "stdout",
     "output_type": "stream",
     "text": [
      "[0]\ttrain-mae:0.07303\teval-mae:0.07424\n",
      "[1]\ttrain-mae:0.07302\teval-mae:0.07425\n",
      "[2]\ttrain-mae:0.07302\teval-mae:0.07425\n",
      "[3]\ttrain-mae:0.07302\teval-mae:0.07425\n",
      "[4]\ttrain-mae:0.07302\teval-mae:0.07425\n",
      "[5]\ttrain-mae:0.07302\teval-mae:0.07425\n",
      "[6]\ttrain-mae:0.07302\teval-mae:0.07425\n",
      "[7]\ttrain-mae:0.07302\teval-mae:0.07425\n",
      "[8]\ttrain-mae:0.07302\teval-mae:0.07425\n",
      "[9]\ttrain-mae:0.07302\teval-mae:0.07425\n"
     ]
    },
    {
     "name": "stderr",
     "output_type": "stream",
     "text": [
      "[I 2024-02-24 20:02:52,121] Trial 29 finished with value: 0.07424239595397486 and parameters: {'n': 843, 'learning_rate': 0.1361505935054604, 'max_depth': 5, 'subsample': 0.8219806393364438, 'colsample_bytree': 0.691091482564776, 'max_delta_step': 5.671615200233473, 'min_child_weight': 2.6065608501325017, 'gamma': 4.723432294511784}. Best is trial 9 with value: 0.0728041077258215.\n"
     ]
    },
    {
     "name": "stdout",
     "output_type": "stream",
     "text": [
      "[0]\ttrain-mae:0.07433\teval-mae:0.07294\n",
      "[1]\ttrain-mae:0.07433\teval-mae:0.07294\n",
      "[2]\ttrain-mae:0.07433\teval-mae:0.07294\n",
      "[3]\ttrain-mae:0.07433\teval-mae:0.07294\n",
      "[4]\ttrain-mae:0.07433\teval-mae:0.07294\n",
      "[5]\ttrain-mae:0.07433\teval-mae:0.07294\n",
      "[6]\ttrain-mae:0.07433\teval-mae:0.07294\n",
      "[7]\ttrain-mae:0.07433\teval-mae:0.07294\n",
      "[8]\ttrain-mae:0.07433\teval-mae:0.07294\n",
      "[9]\ttrain-mae:0.07433\teval-mae:0.07294\n",
      "[10]\ttrain-mae:0.07433\teval-mae:0.07294\n"
     ]
    },
    {
     "name": "stderr",
     "output_type": "stream",
     "text": [
      "[I 2024-02-24 20:02:55,220] Trial 30 finished with value: 0.07293638721862193 and parameters: {'n': 463, 'learning_rate': 0.04678722189727054, 'max_depth': 3, 'subsample': 0.7402439385339898, 'colsample_bytree': 0.9878505836005056, 'max_delta_step': 2.439311359345254, 'min_child_weight': 9.278759381262335, 'gamma': 1.545401986545529}. Best is trial 9 with value: 0.0728041077258215.\n"
     ]
    },
    {
     "name": "stdout",
     "output_type": "stream",
     "text": [
      "[0]\ttrain-mae:0.07316\teval-mae:0.07429\n",
      "[1]\ttrain-mae:0.07316\teval-mae:0.07429\n",
      "[2]\ttrain-mae:0.07316\teval-mae:0.07429\n",
      "[3]\ttrain-mae:0.07316\teval-mae:0.07429\n",
      "[4]\ttrain-mae:0.07316\teval-mae:0.07429\n",
      "[5]\ttrain-mae:0.07316\teval-mae:0.07429\n",
      "[6]\ttrain-mae:0.07316\teval-mae:0.07429\n",
      "[7]\ttrain-mae:0.07316\teval-mae:0.07429\n",
      "[8]\ttrain-mae:0.07316\teval-mae:0.07429\n",
      "[9]\ttrain-mae:0.07316\teval-mae:0.07429\n"
     ]
    },
    {
     "name": "stderr",
     "output_type": "stream",
     "text": [
      "[I 2024-02-24 20:02:58,390] Trial 31 finished with value: 0.07429282554786631 and parameters: {'n': 447, 'learning_rate': 0.05651747811556093, 'max_depth': 3, 'subsample': 0.7069375661846133, 'colsample_bytree': 0.9847652173754897, 'max_delta_step': 2.051207572331396, 'min_child_weight': 9.899584408527033, 'gamma': 1.52476056703467}. Best is trial 9 with value: 0.0728041077258215.\n"
     ]
    },
    {
     "name": "stdout",
     "output_type": "stream",
     "text": [
      "[0]\ttrain-mae:0.07304\teval-mae:0.07430\n",
      "[1]\ttrain-mae:0.07304\teval-mae:0.07430\n",
      "[2]\ttrain-mae:0.07304\teval-mae:0.07430\n",
      "[3]\ttrain-mae:0.07304\teval-mae:0.07430\n",
      "[4]\ttrain-mae:0.07304\teval-mae:0.07430\n",
      "[5]\ttrain-mae:0.07304\teval-mae:0.07430\n",
      "[6]\ttrain-mae:0.07304\teval-mae:0.07430\n",
      "[7]\ttrain-mae:0.07304\teval-mae:0.07430\n",
      "[8]\ttrain-mae:0.07304\teval-mae:0.07430\n",
      "[9]\ttrain-mae:0.07304\teval-mae:0.07430\n"
     ]
    },
    {
     "name": "stderr",
     "output_type": "stream",
     "text": [
      "[I 2024-02-24 20:03:01,404] Trial 32 finished with value: 0.07429543787836275 and parameters: {'n': 463, 'learning_rate': 0.04709028114519502, 'max_depth': 2, 'subsample': 0.7410136415920905, 'colsample_bytree': 0.9411256348114363, 'max_delta_step': 1.2436787853761497, 'min_child_weight': 9.068175686830754, 'gamma': 1.6414619487396322}. Best is trial 9 with value: 0.0728041077258215.\n"
     ]
    },
    {
     "name": "stdout",
     "output_type": "stream",
     "text": [
      "[0]\ttrain-mae:0.07397\teval-mae:0.07262\n",
      "[1]\ttrain-mae:0.07397\teval-mae:0.07262\n",
      "[2]\ttrain-mae:0.07397\teval-mae:0.07262\n",
      "[3]\ttrain-mae:0.07397\teval-mae:0.07262\n",
      "[4]\ttrain-mae:0.07397\teval-mae:0.07262\n",
      "[5]\ttrain-mae:0.07397\teval-mae:0.07262\n",
      "[6]\ttrain-mae:0.07397\teval-mae:0.07262\n",
      "[7]\ttrain-mae:0.07397\teval-mae:0.07262\n",
      "[8]\ttrain-mae:0.07397\teval-mae:0.07262\n",
      "[9]\ttrain-mae:0.07397\teval-mae:0.07262\n"
     ]
    },
    {
     "name": "stderr",
     "output_type": "stream",
     "text": [
      "[I 2024-02-24 20:03:04,564] Trial 33 finished with value: 0.07261632830870934 and parameters: {'n': 524, 'learning_rate': 0.0658819303963972, 'max_depth': 1, 'subsample': 0.6073931611119845, 'colsample_bytree': 0.8826449534656376, 'max_delta_step': 0.640193032932578, 'min_child_weight': 9.154903427070803, 'gamma': 2.240098215434024}. Best is trial 33 with value: 0.07261632830870934.\n"
     ]
    },
    {
     "name": "stdout",
     "output_type": "stream",
     "text": [
      "[0]\ttrain-mae:0.07402\teval-mae:0.07301\n",
      "[1]\ttrain-mae:0.07402\teval-mae:0.07301\n",
      "[2]\ttrain-mae:0.07402\teval-mae:0.07301\n",
      "[3]\ttrain-mae:0.07402\teval-mae:0.07301\n",
      "[4]\ttrain-mae:0.07402\teval-mae:0.07301\n",
      "[5]\ttrain-mae:0.07402\teval-mae:0.07301\n",
      "[6]\ttrain-mae:0.07402\teval-mae:0.07301\n",
      "[7]\ttrain-mae:0.07402\teval-mae:0.07301\n",
      "[8]\ttrain-mae:0.07402\teval-mae:0.07301\n",
      "[9]\ttrain-mae:0.07402\teval-mae:0.07301\n",
      "[10]\ttrain-mae:0.07402\teval-mae:0.07301\n"
     ]
    },
    {
     "name": "stderr",
     "output_type": "stream",
     "text": [
      "[I 2024-02-24 20:03:07,615] Trial 34 finished with value: 0.07300861468648194 and parameters: {'n': 526, 'learning_rate': 0.020195737822199432, 'max_depth': 1, 'subsample': 0.6121432549614892, 'colsample_bytree': 0.853150881448396, 'max_delta_step': 0.7537690099471112, 'min_child_weight': 7.766513435808895, 'gamma': 2.2707158599085115}. Best is trial 33 with value: 0.07261632830870934.\n"
     ]
    },
    {
     "name": "stdout",
     "output_type": "stream",
     "text": [
      "[0]\ttrain-mae:0.07419\teval-mae:0.07225\n",
      "[1]\ttrain-mae:0.07419\teval-mae:0.07225\n",
      "[2]\ttrain-mae:0.07419\teval-mae:0.07225\n",
      "[3]\ttrain-mae:0.07419\teval-mae:0.07225\n",
      "[4]\ttrain-mae:0.07419\teval-mae:0.07225\n",
      "[5]\ttrain-mae:0.07419\teval-mae:0.07225\n",
      "[6]\ttrain-mae:0.07419\teval-mae:0.07225\n",
      "[7]\ttrain-mae:0.07419\teval-mae:0.07225\n",
      "[8]\ttrain-mae:0.07419\teval-mae:0.07225\n",
      "[9]\ttrain-mae:0.07419\teval-mae:0.07225\n"
     ]
    },
    {
     "name": "stderr",
     "output_type": "stream",
     "text": [
      "[I 2024-02-24 20:03:10,533] Trial 35 finished with value: 0.07225031507802897 and parameters: {'n': 597, 'learning_rate': 0.07551198765186194, 'max_depth': 1, 'subsample': 0.5658703466710434, 'colsample_bytree': 0.8832081728582752, 'max_delta_step': 0.36546191800351824, 'min_child_weight': 8.590314483783583, 'gamma': 2.798075767159713}. Best is trial 35 with value: 0.07225031507802897.\n"
     ]
    },
    {
     "name": "stdout",
     "output_type": "stream",
     "text": [
      "[0]\ttrain-mae:0.07346\teval-mae:0.07374\n",
      "[1]\ttrain-mae:0.07346\teval-mae:0.07374\n",
      "[2]\ttrain-mae:0.07346\teval-mae:0.07374\n",
      "[3]\ttrain-mae:0.07346\teval-mae:0.07374\n",
      "[4]\ttrain-mae:0.07346\teval-mae:0.07374\n",
      "[5]\ttrain-mae:0.07346\teval-mae:0.07374\n",
      "[6]\ttrain-mae:0.07346\teval-mae:0.07374\n",
      "[7]\ttrain-mae:0.07346\teval-mae:0.07374\n",
      "[8]\ttrain-mae:0.07346\teval-mae:0.07374\n",
      "[9]\ttrain-mae:0.07346\teval-mae:0.07374\n",
      "[10]\ttrain-mae:0.07346\teval-mae:0.07374\n"
     ]
    },
    {
     "name": "stderr",
     "output_type": "stream",
     "text": [
      "[I 2024-02-24 20:03:13,490] Trial 36 finished with value: 0.07374009215025192 and parameters: {'n': 604, 'learning_rate': 0.0709405671455461, 'max_depth': 1, 'subsample': 0.5609541300475744, 'colsample_bytree': 0.8975667449618395, 'max_delta_step': 0.37674243150381415, 'min_child_weight': 9.253512798513974, 'gamma': 2.7522351721445766}. Best is trial 35 with value: 0.07225031507802897.\n"
     ]
    },
    {
     "name": "stdout",
     "output_type": "stream",
     "text": [
      "[0]\ttrain-mae:0.07396\teval-mae:0.07342\n",
      "[1]\ttrain-mae:0.07396\teval-mae:0.07342\n",
      "[2]\ttrain-mae:0.07396\teval-mae:0.07342\n",
      "[3]\ttrain-mae:0.07396\teval-mae:0.07342\n",
      "[4]\ttrain-mae:0.07396\teval-mae:0.07342\n",
      "[5]\ttrain-mae:0.07396\teval-mae:0.07342\n",
      "[6]\ttrain-mae:0.07396\teval-mae:0.07342\n",
      "[7]\ttrain-mae:0.07396\teval-mae:0.07342\n",
      "[8]\ttrain-mae:0.07396\teval-mae:0.07342\n",
      "[9]\ttrain-mae:0.07396\teval-mae:0.07342\n"
     ]
    },
    {
     "name": "stderr",
     "output_type": "stream",
     "text": [
      "[I 2024-02-24 20:03:16,858] Trial 37 finished with value: 0.07342324152002666 and parameters: {'n': 529, 'learning_rate': 0.12016532101265087, 'max_depth': 2, 'subsample': 0.5446072741357795, 'colsample_bytree': 0.9419437913809372, 'max_delta_step': 1.6384331074684848, 'min_child_weight': 8.62759066113456, 'gamma': 2.251766215889042}. Best is trial 35 with value: 0.07225031507802897.\n"
     ]
    },
    {
     "name": "stdout",
     "output_type": "stream",
     "text": [
      "[0]\ttrain-mae:0.07357\teval-mae:0.07385\n",
      "[1]\ttrain-mae:0.07357\teval-mae:0.07385\n",
      "[2]\ttrain-mae:0.07357\teval-mae:0.07385\n",
      "[3]\ttrain-mae:0.07357\teval-mae:0.07385\n",
      "[4]\ttrain-mae:0.07357\teval-mae:0.07385\n",
      "[5]\ttrain-mae:0.07357\teval-mae:0.07385\n",
      "[6]\ttrain-mae:0.07357\teval-mae:0.07385\n",
      "[7]\ttrain-mae:0.07357\teval-mae:0.07385\n",
      "[8]\ttrain-mae:0.07357\teval-mae:0.07385\n",
      "[9]\ttrain-mae:0.07357\teval-mae:0.07385\n",
      "[10]\ttrain-mae:0.07357\teval-mae:0.07385\n"
     ]
    },
    {
     "name": "stderr",
     "output_type": "stream",
     "text": [
      "[I 2024-02-24 20:03:19,906] Trial 38 finished with value: 0.07384864528499906 and parameters: {'n': 581, 'learning_rate': 0.10136072432066341, 'max_depth': 1, 'subsample': 0.5078444134757368, 'colsample_bytree': 0.8790508040432837, 'max_delta_step': 0.09171961369412451, 'min_child_weight': 7.40626007051895, 'gamma': 2.943806335128832}. Best is trial 35 with value: 0.07225031507802897.\n"
     ]
    },
    {
     "name": "stdout",
     "output_type": "stream",
     "text": [
      "[0]\ttrain-mae:0.07355\teval-mae:0.07318\n",
      "[1]\ttrain-mae:0.07355\teval-mae:0.07318\n",
      "[2]\ttrain-mae:0.07355\teval-mae:0.07318\n",
      "[3]\ttrain-mae:0.07355\teval-mae:0.07318\n",
      "[4]\ttrain-mae:0.07355\teval-mae:0.07318\n",
      "[5]\ttrain-mae:0.07355\teval-mae:0.07318\n",
      "[6]\ttrain-mae:0.07355\teval-mae:0.07318\n",
      "[7]\ttrain-mae:0.07355\teval-mae:0.07318\n",
      "[8]\ttrain-mae:0.07355\teval-mae:0.07318\n",
      "[9]\ttrain-mae:0.07355\teval-mae:0.07318\n",
      "[10]\ttrain-mae:0.07355\teval-mae:0.07318\n"
     ]
    },
    {
     "name": "stderr",
     "output_type": "stream",
     "text": [
      "[I 2024-02-24 20:03:22,707] Trial 39 finished with value: 0.07317749023130687 and parameters: {'n': 635, 'learning_rate': 0.07467242385881805, 'max_depth': 2, 'subsample': 0.602930581279999, 'colsample_bytree': 0.8235703126468962, 'max_delta_step': 5.992172105399257, 'min_child_weight': 7.860238393930459, 'gamma': 1.0196099232573774}. Best is trial 35 with value: 0.07225031507802897.\n"
     ]
    },
    {
     "name": "stdout",
     "output_type": "stream",
     "text": [
      "[0]\ttrain-mae:0.07314\teval-mae:0.07430\n",
      "[1]\ttrain-mae:0.07314\teval-mae:0.07430\n",
      "[2]\ttrain-mae:0.07314\teval-mae:0.07430\n",
      "[3]\ttrain-mae:0.07314\teval-mae:0.07430\n",
      "[4]\ttrain-mae:0.07314\teval-mae:0.07430\n",
      "[5]\ttrain-mae:0.07314\teval-mae:0.07430\n",
      "[6]\ttrain-mae:0.07314\teval-mae:0.07430\n",
      "[7]\ttrain-mae:0.07314\teval-mae:0.07430\n",
      "[8]\ttrain-mae:0.07314\teval-mae:0.07430\n",
      "[9]\ttrain-mae:0.07314\teval-mae:0.07430\n"
     ]
    },
    {
     "name": "stderr",
     "output_type": "stream",
     "text": [
      "[I 2024-02-24 20:03:25,713] Trial 40 finished with value: 0.07430383445730855 and parameters: {'n': 417, 'learning_rate': 0.10634398822792543, 'max_depth': 1, 'subsample': 0.6431584562764795, 'colsample_bytree': 0.7906415359003929, 'max_delta_step': 0.7678096053264877, 'min_child_weight': 8.810585990669438, 'gamma': 0.6645143206410444}. Best is trial 35 with value: 0.07225031507802897.\n"
     ]
    },
    {
     "name": "stdout",
     "output_type": "stream",
     "text": [
      "[0]\ttrain-mae:0.07333\teval-mae:0.07444\n",
      "[1]\ttrain-mae:0.07333\teval-mae:0.07444\n",
      "[2]\ttrain-mae:0.07333\teval-mae:0.07444\n",
      "[3]\ttrain-mae:0.07333\teval-mae:0.07444\n",
      "[4]\ttrain-mae:0.07333\teval-mae:0.07444\n",
      "[5]\ttrain-mae:0.07333\teval-mae:0.07444\n",
      "[6]\ttrain-mae:0.07333\teval-mae:0.07444\n",
      "[7]\ttrain-mae:0.07333\teval-mae:0.07444\n",
      "[8]\ttrain-mae:0.07333\teval-mae:0.07444\n",
      "[9]\ttrain-mae:0.07333\teval-mae:0.07444\n",
      "[10]\ttrain-mae:0.07333\teval-mae:0.07444\n"
     ]
    },
    {
     "name": "stderr",
     "output_type": "stream",
     "text": [
      "[I 2024-02-24 20:03:28,818] Trial 41 finished with value: 0.07443943034001153 and parameters: {'n': 568, 'learning_rate': 0.0616590444459501, 'max_depth': 6, 'subsample': 0.6717913205269864, 'colsample_bytree': 0.9366727454819612, 'max_delta_step': 0.561695162994874, 'min_child_weight': 9.706215902702821, 'gamma': 2.535248185193462}. Best is trial 35 with value: 0.07225031507802897.\n"
     ]
    },
    {
     "name": "stdout",
     "output_type": "stream",
     "text": [
      "[0]\ttrain-mae:0.07313\teval-mae:0.07436\n",
      "[1]\ttrain-mae:0.07313\teval-mae:0.07436\n",
      "[2]\ttrain-mae:0.07313\teval-mae:0.07436\n",
      "[3]\ttrain-mae:0.07313\teval-mae:0.07436\n",
      "[4]\ttrain-mae:0.07313\teval-mae:0.07436\n",
      "[5]\ttrain-mae:0.07312\teval-mae:0.07436\n",
      "[6]\ttrain-mae:0.07312\teval-mae:0.07436\n",
      "[7]\ttrain-mae:0.07312\teval-mae:0.07436\n",
      "[8]\ttrain-mae:0.07312\teval-mae:0.07436\n",
      "[9]\ttrain-mae:0.07312\teval-mae:0.07436\n"
     ]
    },
    {
     "name": "stderr",
     "output_type": "stream",
     "text": [
      "[I 2024-02-24 20:03:31,890] Trial 42 finished with value: 0.0743561979886084 and parameters: {'n': 542, 'learning_rate': 0.08929584239772208, 'max_depth': 4, 'subsample': 0.5995165961373196, 'colsample_bytree': 0.759709994931964, 'max_delta_step': 1.4858846863769208, 'min_child_weight': 6.949353400740803, 'gamma': 3.876854256151926}. Best is trial 35 with value: 0.07225031507802897.\n"
     ]
    },
    {
     "name": "stdout",
     "output_type": "stream",
     "text": [
      "[0]\ttrain-mae:0.07323\teval-mae:0.07410\n",
      "[1]\ttrain-mae:0.07323\teval-mae:0.07410\n",
      "[2]\ttrain-mae:0.07323\teval-mae:0.07410\n",
      "[3]\ttrain-mae:0.07323\teval-mae:0.07410\n",
      "[4]\ttrain-mae:0.07323\teval-mae:0.07410\n",
      "[5]\ttrain-mae:0.07323\teval-mae:0.07410\n",
      "[6]\ttrain-mae:0.07323\teval-mae:0.07410\n",
      "[7]\ttrain-mae:0.07323\teval-mae:0.07410\n",
      "[8]\ttrain-mae:0.07323\teval-mae:0.07410\n",
      "[9]\ttrain-mae:0.07323\teval-mae:0.07410\n"
     ]
    },
    {
     "name": "stderr",
     "output_type": "stream",
     "text": [
      "[I 2024-02-24 20:03:35,198] Trial 43 finished with value: 0.07410342954291592 and parameters: {'n': 509, 'learning_rate': 0.024095322203809073, 'max_depth': 3, 'subsample': 0.5369165459661245, 'colsample_bytree': 0.875224084459365, 'max_delta_step': 3.3004590763473827, 'min_child_weight': 1.9193496280393358, 'gamma': 4.522799141740843}. Best is trial 35 with value: 0.07225031507802897.\n"
     ]
    },
    {
     "name": "stdout",
     "output_type": "stream",
     "text": [
      "[0]\ttrain-mae:0.07361\teval-mae:0.07380\n",
      "[1]\ttrain-mae:0.07361\teval-mae:0.07380\n",
      "[2]\ttrain-mae:0.07361\teval-mae:0.07380\n",
      "[3]\ttrain-mae:0.07361\teval-mae:0.07380\n",
      "[4]\ttrain-mae:0.07361\teval-mae:0.07380\n",
      "[5]\ttrain-mae:0.07361\teval-mae:0.07380\n",
      "[6]\ttrain-mae:0.07361\teval-mae:0.07380\n",
      "[7]\ttrain-mae:0.07361\teval-mae:0.07380\n",
      "[8]\ttrain-mae:0.07361\teval-mae:0.07380\n",
      "[9]\ttrain-mae:0.07361\teval-mae:0.07380\n",
      "[10]\ttrain-mae:0.07361\teval-mae:0.07380\n",
      "[11]\ttrain-mae:0.07361\teval-mae:0.07380\n",
      "[12]\ttrain-mae:0.07361\teval-mae:0.07380\n",
      "[13]\ttrain-mae:0.07361\teval-mae:0.07380\n",
      "[14]\ttrain-mae:0.07361\teval-mae:0.07380\n",
      "[15]\ttrain-mae:0.07361\teval-mae:0.07380\n"
     ]
    },
    {
     "name": "stderr",
     "output_type": "stream",
     "text": [
      "[I 2024-02-24 20:03:39,429] Trial 44 finished with value: 0.07379530275405671 and parameters: {'n': 638, 'learning_rate': 0.011388862668033331, 'max_depth': 6, 'subsample': 0.6258497443501313, 'colsample_bytree': 0.8016007296942625, 'max_delta_step': 6.943230868282613, 'min_child_weight': 4.1797812353480355, 'gamma': 2.94157943833493}. Best is trial 35 with value: 0.07225031507802897.\n"
     ]
    },
    {
     "name": "stdout",
     "output_type": "stream",
     "text": [
      "[0]\ttrain-mae:0.07372\teval-mae:0.07383\n",
      "[1]\ttrain-mae:0.07372\teval-mae:0.07383\n",
      "[2]\ttrain-mae:0.07372\teval-mae:0.07383\n",
      "[3]\ttrain-mae:0.07372\teval-mae:0.07383\n",
      "[4]\ttrain-mae:0.07372\teval-mae:0.07383\n",
      "[5]\ttrain-mae:0.07372\teval-mae:0.07383\n",
      "[6]\ttrain-mae:0.07372\teval-mae:0.07383\n",
      "[7]\ttrain-mae:0.07372\teval-mae:0.07383\n",
      "[8]\ttrain-mae:0.07372\teval-mae:0.07383\n",
      "[9]\ttrain-mae:0.07372\teval-mae:0.07383\n",
      "[10]\ttrain-mae:0.07372\teval-mae:0.07383\n"
     ]
    },
    {
     "name": "stderr",
     "output_type": "stream",
     "text": [
      "[I 2024-02-24 20:03:42,882] Trial 45 finished with value: 0.07383037391189987 and parameters: {'n': 613, 'learning_rate': 0.019236359197004872, 'max_depth': 2, 'subsample': 0.7648644168264132, 'colsample_bytree': 0.8461973107230081, 'max_delta_step': 4.568024727763571, 'min_child_weight': 8.293336396703918, 'gamma': 3.374845879058043}. Best is trial 35 with value: 0.07225031507802897.\n"
     ]
    },
    {
     "name": "stdout",
     "output_type": "stream",
     "text": [
      "[0]\ttrain-mae:0.07321\teval-mae:0.07418\n",
      "[1]\ttrain-mae:0.07321\teval-mae:0.07418\n",
      "[2]\ttrain-mae:0.07321\teval-mae:0.07418\n",
      "[3]\ttrain-mae:0.07321\teval-mae:0.07418\n",
      "[4]\ttrain-mae:0.07321\teval-mae:0.07419\n",
      "[5]\ttrain-mae:0.07321\teval-mae:0.07419\n",
      "[6]\ttrain-mae:0.07321\teval-mae:0.07419\n",
      "[7]\ttrain-mae:0.07321\teval-mae:0.07419\n",
      "[8]\ttrain-mae:0.07321\teval-mae:0.07419\n",
      "[9]\ttrain-mae:0.07321\teval-mae:0.07419\n"
     ]
    },
    {
     "name": "stderr",
     "output_type": "stream",
     "text": [
      "[I 2024-02-24 20:03:46,021] Trial 46 finished with value: 0.07418334087855724 and parameters: {'n': 466, 'learning_rate': 0.039736528103074084, 'max_depth': 5, 'subsample': 0.6947741327777043, 'colsample_bytree': 0.9207002816176143, 'max_delta_step': 1.074948324619496, 'min_child_weight': 9.415556371540067, 'gamma': 1.2994394749923848}. Best is trial 35 with value: 0.07225031507802897.\n"
     ]
    },
    {
     "name": "stdout",
     "output_type": "stream",
     "text": [
      "[0]\ttrain-mae:0.07294\teval-mae:0.07465\n",
      "[1]\ttrain-mae:0.07294\teval-mae:0.07465\n",
      "[2]\ttrain-mae:0.07294\teval-mae:0.07465\n",
      "[3]\ttrain-mae:0.07294\teval-mae:0.07465\n",
      "[4]\ttrain-mae:0.07294\teval-mae:0.07465\n",
      "[5]\ttrain-mae:0.07294\teval-mae:0.07465\n",
      "[6]\ttrain-mae:0.07294\teval-mae:0.07465\n",
      "[7]\ttrain-mae:0.07294\teval-mae:0.07465\n",
      "[8]\ttrain-mae:0.07294\teval-mae:0.07465\n",
      "[9]\ttrain-mae:0.07294\teval-mae:0.07465\n"
     ]
    },
    {
     "name": "stderr",
     "output_type": "stream",
     "text": [
      "[I 2024-02-24 20:03:49,364] Trial 47 finished with value: 0.07465353553968833 and parameters: {'n': 419, 'learning_rate': 0.0149090169417624, 'max_depth': 4, 'subsample': 0.6634201908754458, 'colsample_bytree': 0.5945401475706058, 'max_delta_step': 1.67957808711536, 'min_child_weight': 5.297075604269842, 'gamma': 4.043831594162189}. Best is trial 35 with value: 0.07225031507802897.\n"
     ]
    },
    {
     "name": "stdout",
     "output_type": "stream",
     "text": [
      "[0]\ttrain-mae:0.07377\teval-mae:0.07371\n",
      "[1]\ttrain-mae:0.07377\teval-mae:0.07371\n",
      "[2]\ttrain-mae:0.07377\teval-mae:0.07371\n",
      "[3]\ttrain-mae:0.07377\teval-mae:0.07371\n",
      "[4]\ttrain-mae:0.07377\teval-mae:0.07371\n",
      "[5]\ttrain-mae:0.07377\teval-mae:0.07371\n",
      "[6]\ttrain-mae:0.07377\teval-mae:0.07371\n",
      "[7]\ttrain-mae:0.07377\teval-mae:0.07371\n",
      "[8]\ttrain-mae:0.07377\teval-mae:0.07371\n",
      "[9]\ttrain-mae:0.07377\teval-mae:0.07371\n",
      "[10]\ttrain-mae:0.07377\teval-mae:0.07371\n"
     ]
    },
    {
     "name": "stderr",
     "output_type": "stream",
     "text": [
      "[I 2024-02-24 20:03:52,547] Trial 48 finished with value: 0.07370626330594769 and parameters: {'n': 672, 'learning_rate': 0.1673246046754787, 'max_depth': 1, 'subsample': 0.8049276336306977, 'colsample_bytree': 0.7451148639687023, 'max_delta_step': 1.9971729733169732, 'min_child_weight': 0.8796864159457334, 'gamma': 2.105150056301967}. Best is trial 35 with value: 0.07225031507802897.\n"
     ]
    },
    {
     "name": "stdout",
     "output_type": "stream",
     "text": [
      "[0]\ttrain-mae:0.07333\teval-mae:0.07373\n",
      "[1]\ttrain-mae:0.07333\teval-mae:0.07373\n",
      "[2]\ttrain-mae:0.07333\teval-mae:0.07373\n",
      "[3]\ttrain-mae:0.07333\teval-mae:0.07373\n",
      "[4]\ttrain-mae:0.07333\teval-mae:0.07373\n",
      "[5]\ttrain-mae:0.07333\teval-mae:0.07373\n",
      "[6]\ttrain-mae:0.07333\teval-mae:0.07373\n",
      "[7]\ttrain-mae:0.07333\teval-mae:0.07373\n",
      "[8]\ttrain-mae:0.07333\teval-mae:0.07373\n",
      "[9]\ttrain-mae:0.07333\teval-mae:0.07373\n"
     ]
    },
    {
     "name": "stderr",
     "output_type": "stream",
     "text": [
      "[I 2024-02-24 20:03:55,774] Trial 49 finished with value: 0.07373045728503656 and parameters: {'n': 505, 'learning_rate': 0.08607804756718676, 'max_depth': 3, 'subsample': 0.8683794931449266, 'colsample_bytree': 0.544007513104586, 'max_delta_step': 3.8232426806443565, 'min_child_weight': 7.119317552533431, 'gamma': 1.794858764405061}. Best is trial 35 with value: 0.07225031507802897.\n"
     ]
    },
    {
     "name": "stdout",
     "output_type": "stream",
     "text": [
      "Number of finished trials:  50\n",
      "Best trial:\n",
      "  Value:  0.07225031507802897\n",
      "  Params: \n",
      "    n: 597\n",
      "    learning_rate: 0.07551198765186194\n",
      "    max_depth: 1\n",
      "    subsample: 0.5658703466710434\n",
      "    colsample_bytree: 0.8832081728582752\n",
      "    max_delta_step: 0.36546191800351824\n",
      "    min_child_weight: 8.590314483783583\n",
      "    gamma: 2.798075767159713\n"
     ]
    }
   ],
   "source": [
    "# We initialize our experiment here and set the number of trials\n",
    "# Our output is verbose so that we can see the stability of the XGBoost within its internal validation process on training data in addition to our own validation process\n",
    "\n",
    "trial_num = 50\n",
    "\n",
    "study = optuna.create_study(direction='minimize')\n",
    "study.optimize(objective, n_trials=trial_num)  \n",
    "\n",
    "print(\"Number of finished trials: \", len(study.trials))\n",
    "print(\"Best trial:\")\n",
    "trial = study.best_trial\n",
    "\n",
    "print(\"  Value: \", trial.value)\n",
    "print(\"  Params: \")\n",
    "for key, value in trial.params.items():\n",
    "    print(f\"    {key}: {value}\")"
   ]
  }
 ],
 "metadata": {
  "kernelspec": {
   "display_name": "TabNetImp",
   "language": "python",
   "name": "python3"
  },
  "language_info": {
   "codemirror_mode": {
    "name": "ipython",
    "version": 3
   },
   "file_extension": ".py",
   "mimetype": "text/x-python",
   "name": "python",
   "nbconvert_exporter": "python",
   "pygments_lexer": "ipython3",
   "version": "3.11.4"
  }
 },
 "nbformat": 4,
 "nbformat_minor": 2
}
